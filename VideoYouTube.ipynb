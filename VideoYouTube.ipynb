{
  "nbformat": 4,
  "nbformat_minor": 0,
  "metadata": {
    "colab": {
      "provenance": [],
      "mount_file_id": "1-eODdVhzjxEQgy_zOuWrmVRxrkPc78YD",
      "authorship_tag": "ABX9TyN6ToIhP5QSkSjZrOySgE3S",
      "include_colab_link": true
    },
    "kernelspec": {
      "name": "python3",
      "display_name": "Python 3"
    },
    "language_info": {
      "name": "python"
    }
  },
  "cells": [
    {
      "cell_type": "markdown",
      "metadata": {
        "id": "view-in-github",
        "colab_type": "text"
      },
      "source": [
        "<a href=\"https://colab.research.google.com/github/MadeInCusco/python/blob/main/VideoYouTube.ipynb\" target=\"_parent\"><img src=\"https://colab.research.google.com/assets/colab-badge.svg\" alt=\"Open In Colab\"/></a>"
      ]
    },
    {
      "cell_type": "markdown",
      "source": [
        "DOWNLOAD VIDEOS:"
      ],
      "metadata": {
        "id": "h1UX3rinsQms"
      }
    },
    {
      "cell_type": "code",
      "source": [
        "pip install yt-dlp"
      ],
      "metadata": {
        "colab": {
          "base_uri": "https://localhost:8080/"
        },
        "id": "bpjiYedhqcS8",
        "outputId": "d9c8f5c4-79ad-4bc5-b91d-f147f631ef8b"
      },
      "execution_count": 6,
      "outputs": [
        {
          "output_type": "stream",
          "name": "stdout",
          "text": [
            "Collecting yt-dlp\n",
            "  Downloading yt_dlp-2024.12.3-py3-none-any.whl.metadata (172 kB)\n",
            "\u001b[2K     \u001b[90m━━━━━━━━━━━━━━━━━━━━━━━━━━━━━━━━━━━━━━━━\u001b[0m \u001b[32m172.1/172.1 kB\u001b[0m \u001b[31m3.3 MB/s\u001b[0m eta \u001b[36m0:00:00\u001b[0m\n",
            "\u001b[?25hDownloading yt_dlp-2024.12.3-py3-none-any.whl (3.2 MB)\n",
            "\u001b[2K   \u001b[90m━━━━━━━━━━━━━━━━━━━━━━━━━━━━━━━━━━━━━━━━\u001b[0m \u001b[32m3.2/3.2 MB\u001b[0m \u001b[31m39.5 MB/s\u001b[0m eta \u001b[36m0:00:00\u001b[0m\n",
            "\u001b[?25hInstalling collected packages: yt-dlp\n",
            "Successfully installed yt-dlp-2024.12.3\n"
          ]
        }
      ]
    },
    {
      "cell_type": "code",
      "source": [
        "import yt_dlp\n",
        "\n",
        "def download_youtube_video(url, output_path='Downloads', resolution=None):\n",
        "    options = {\n",
        "        'format': f'bestvideo[height<={resolution}]+bestaudio/best' if resolution else 'best',\n",
        "        'outtmpl': f'{output_path}/%(title)s.%(ext)s',\n",
        "    }\n",
        "    with yt_dlp.YoutubeDL(options) as ydl:\n",
        "        ydl.download([url])\n",
        "\n",
        "# URL del video\n",
        "video_url = \"https://www.youtube.com/watch?v=hZeubJfLLR4\"\n",
        "\n",
        "# Ejecutar descarga\n",
        "download_youtube_video(\n",
        "    url=video_url,\n",
        "    output_path='C:/Users/josea/Downloads',  # Cambia la carpeta preferida\n",
        "    resolution='1080'  # Cambia a '720' o elimina para la mejor calidad\n",
        ")"
      ],
      "metadata": {
        "colab": {
          "base_uri": "https://localhost:8080/"
        },
        "id": "wvn8yJvNpizU",
        "outputId": "d82e02f5-118d-4626-ad3c-bc798d866ee7"
      },
      "execution_count": 7,
      "outputs": [
        {
          "output_type": "stream",
          "name": "stdout",
          "text": [
            "[youtube] Extracting URL: https://www.youtube.com/watch?v=hZeubJfLLR4\n",
            "[youtube] hZeubJfLLR4: Downloading webpage\n",
            "[youtube] hZeubJfLLR4: Downloading ios player API JSON\n",
            "[youtube] hZeubJfLLR4: Downloading mweb player API JSON\n",
            "[youtube] hZeubJfLLR4: Downloading player 85d2de62\n",
            "[youtube] hZeubJfLLR4: Downloading m3u8 information\n",
            "[info] hZeubJfLLR4: Downloading 1 format(s): 399+251\n",
            "[download] Destination: C:/Users/josea/Downloads/GABRIELA SERPA CONOCE A CURWEN ｜ ENCARA CURWEN Y SUELTA LOS PERMITIDOS ｜ Habla Good.f399.mp4\n",
            "[download] 100% of  232.28MiB in 00:00:06 at 34.19MiB/s  \n",
            "[download] Destination: C:/Users/josea/Downloads/GABRIELA SERPA CONOCE A CURWEN ｜ ENCARA CURWEN Y SUELTA LOS PERMITIDOS ｜ Habla Good.f251.webm\n",
            "[download] 100% of    7.81MiB in 00:00:01 at 6.50MiB/s   \n",
            "[Merger] Merging formats into \"C:/Users/josea/Downloads/GABRIELA SERPA CONOCE A CURWEN ｜ ENCARA CURWEN Y SUELTA LOS PERMITIDOS ｜ Habla Good.webm\"\n",
            "Deleting original file C:/Users/josea/Downloads/GABRIELA SERPA CONOCE A CURWEN ｜ ENCARA CURWEN Y SUELTA LOS PERMITIDOS ｜ Habla Good.f399.mp4 (pass -k to keep)\n",
            "Deleting original file C:/Users/josea/Downloads/GABRIELA SERPA CONOCE A CURWEN ｜ ENCARA CURWEN Y SUELTA LOS PERMITIDOS ｜ Habla Good.f251.webm (pass -k to keep)\n"
          ]
        }
      ]
    }
  ]
}